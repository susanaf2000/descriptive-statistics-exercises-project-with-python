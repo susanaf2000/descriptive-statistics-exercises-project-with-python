{
    "cells": [
        {
            "cell_type": "markdown",
            "id": "ac622319",
            "metadata": {},
            "source": [
                "# Descriptive statistics problems"
            ]
        },
        {
            "cell_type": "markdown",
            "id": "aa8993e4",
            "metadata": {},
            "source": [
                "### Exercise 1"
            ]
        },
        {
            "cell_type": "markdown",
            "id": "5e0ab0d5",
            "metadata": {},
            "source": [
                "We will use Numpy to obtain information to describe statistically.\n",
                "\n",
                "- Generate an array of 100 elements following a normal distribution.\n",
                "- Generate an array of 100 elements following a chi-square distribution with 3 degrees of freedom.\n",
                "- Calculate the main metrics and statistical measures that best describe the two vectors."
            ]
        },
        {
            "cell_type": "code",
            "execution_count": 13,
            "id": "34720ab6",
            "metadata": {},
            "outputs": [
                {
                    "name": "stdout",
                    "output_type": "stream",
                    "text": [
                        "Normal Distribution:\n",
                        "Mean: 0.006972237549190532\n",
                        "Standard Deviation: 1.0181240049318485\n",
                        "Variance: 1.0365764894184668\n",
                        "Median: -0.05673445197085231\n",
                        "\n",
                        "Chi-square Distribution (df=3):\n",
                        "Mean: 3.0584447447898016\n",
                        "Standard Deviation: 2.2905542123957368\n",
                        "Variance: 5.246638599923854\n",
                        "Median: 2.5154671790259284\n"
                    ]
                }
            ],
            "source": [
                "# TODO\n",
                "import numpy as np \n",
                "\n",
                "#array following a normal distribution\n",
                "normal_array = np.random.normal(0, 1, 100)\n",
                "\n",
                "# Generate array following a chi-square distribution with 3 degrees of freedom\n",
                "chisq_array = np.random.chisquare(df=3, size=100)\n",
                "\n",
                "# Calculate main metrics for normal_array\n",
                "normal_mean = np.mean(normal_array)\n",
                "normal_std = np.std(normal_array)\n",
                "normal_var = np.var(normal_array)\n",
                "normal_median = np.median(normal_array)\n",
                "\n",
                "# Calculate main metrics for chi_squared_array\n",
                "chisq_mean = np.mean(chisq_array)\n",
                "chisq_std = np.std(chisq_array)\n",
                "chisq_var = np.var(chisq_array)\n",
                "chisq_median = np.median(chisq_array)\n",
                "\n",
                "print(\"Normal Distribution:\")\n",
                "print(\"Mean:\", normal_mean)\n",
                "print(\"Standard Deviation:\", normal_std)\n",
                "print(\"Variance:\", normal_var)\n",
                "print(\"Median:\", normal_median)\n",
                "\n",
                "\n",
                "print(\"\\nChi-square Distribution (df=3):\")\n",
                "print(\"Mean:\", chisq_mean)\n",
                "print(\"Standard Deviation:\", chisq_std)\n",
                "print(\"Variance:\", chisq_var)\n",
                "print(\"Median:\", chisq_median)\n",
                "\n"
            ]
        },
        {
            "cell_type": "markdown",
            "id": "46c70c3d",
            "metadata": {},
            "source": [
                "### Exercise 2\n",
                "\n",
                "Write a Python program to calculate the standard deviation of the following data:\n",
                "\n",
                "```py\n",
                "data = [4, 2, 5, 8, 6]\n",
                "```"
            ]
        },
        {
            "cell_type": "code",
            "execution_count": 6,
            "id": "d590308e",
            "metadata": {},
            "outputs": [
                {
                    "name": "stdout",
                    "output_type": "stream",
                    "text": [
                        "Standard Deviation: 2.0\n"
                    ]
                }
            ],
            "source": [
                "# TODO\n",
                "import numpy as np\n",
                "\n",
                "data = [4, 2, 5, 8, 6]\n",
                "\n",
                "# Calculate standard deviation\n",
                "#std_deviation = np.std(data)\n",
                "\n",
                "arr = [4, 2, 5, 8, 6]\n",
                "\n",
                "def std_dev(data)\n",
                "# Calculate mean\n",
                "mean = sum(data) / len(data)\n",
                "\n",
                "# Calculate squared differences from the mean\n",
                "squared_diff = [(x - mean) ** 2 for x in data]\n",
                "\n",
                "# Calculate variance\n",
                "variance = sum(squared_diff) / len(data)\n",
                "\n",
                "# Calculate standard deviation\n",
                "std_deviation = variance ** 0.5\n",
                "\n",
                "print(\"Standard Deviation:\", std_deviation)\n",
                "\n"
            ]
        }
    ],
    "metadata": {
        "interpreter": {
            "hash": "9248718ffe6ce6938b217e69dbcc175ea21f4c6b28a317e96c05334edae734bb"
        },
        "kernelspec": {
            "display_name": "Python 3.9.12 ('ML-BOOTCAMP')",
            "language": "python",
            "name": "python3"
        },
        "language_info": {
            "codemirror_mode": {
                "name": "ipython",
                "version": 3
            },
            "file_extension": ".py",
            "mimetype": "text/x-python",
            "name": "python",
            "nbconvert_exporter": "python",
            "pygments_lexer": "ipython3",
            "version": "3.11.4"
        }
    },
    "nbformat": 4,
    "nbformat_minor": 5
}
